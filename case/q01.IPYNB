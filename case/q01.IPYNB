{
 "cells": [
  {
   "cell_type": "markdown",
   "metadata": {},
   "source": [
    "1. Podemos remover algum tipo de massa do cardápio? Qual o impacto dessa ação? "
   ]
  },
  {
   "cell_type": "code",
   "execution_count": 16,
   "metadata": {},
   "outputs": [],
   "source": [
    "import pandas as pd "
   ]
  },
  {
   "cell_type": "code",
   "execution_count": 59,
   "metadata": {},
   "outputs": [
    {
     "data": {
      "text/html": [
       "<div>\n",
       "<style scoped>\n",
       "    .dataframe tbody tr th:only-of-type {\n",
       "        vertical-align: middle;\n",
       "    }\n",
       "\n",
       "    .dataframe tbody tr th {\n",
       "        vertical-align: top;\n",
       "    }\n",
       "\n",
       "    .dataframe thead th {\n",
       "        text-align: right;\n",
       "    }\n",
       "</style>\n",
       "<table border=\"1\" class=\"dataframe\">\n",
       "  <thead>\n",
       "    <tr style=\"text-align: right;\">\n",
       "      <th></th>\n",
       "      <th>descItem</th>\n",
       "      <th>idPedido</th>\n",
       "    </tr>\n",
       "  </thead>\n",
       "  <tbody>\n",
       "    <tr>\n",
       "      <th>0</th>\n",
       "      <td>massa final</td>\n",
       "      <td>346</td>\n",
       "    </tr>\n",
       "    <tr>\n",
       "      <th>1</th>\n",
       "      <td>massa grossa</td>\n",
       "      <td>108</td>\n",
       "    </tr>\n",
       "    <tr>\n",
       "      <th>2</th>\n",
       "      <td>massa integral</td>\n",
       "      <td>33</td>\n",
       "    </tr>\n",
       "    <tr>\n",
       "      <th>3</th>\n",
       "      <td>massa tradicional</td>\n",
       "      <td>619</td>\n",
       "    </tr>\n",
       "  </tbody>\n",
       "</table>\n",
       "</div>"
      ],
      "text/plain": [
       "            descItem  idPedido\n",
       "0        massa final       346\n",
       "1       massa grossa       108\n",
       "2     massa integral        33\n",
       "3  massa tradicional       619"
      ]
     },
     "execution_count": 59,
     "metadata": {},
     "output_type": "execute_result"
    }
   ],
   "source": [
    "df_item_pedido = pd.read_csv('../data/item_pedido.csv')\n",
    "df_item_produto = pd.read_csv('../data/produto.csv')\n",
    "\n",
    "filtro_massa = df_item_pedido['descTipoItem'] == 'massa'\n",
    "\n",
    "df_massa = df_item_pedido[filtro_massa].merge(df_item_produto,\n",
    "                                              how='left')\n",
    "\n",
    "\n",
    "\n",
    "\n",
    "df_group = (df_massa.groupby(by=['descItem'])['idPedido']\n",
    "                    .nunique()\n",
    "                    .reset_index()\n",
    "                    )\n",
    "\n",
    "df_group"
   ]
  },
  {
   "cell_type": "code",
   "execution_count": 35,
   "metadata": {},
   "outputs": [
    {
     "data": {
      "text/html": [
       "<div>\n",
       "<style scoped>\n",
       "    .dataframe tbody tr th:only-of-type {\n",
       "        vertical-align: middle;\n",
       "    }\n",
       "\n",
       "    .dataframe tbody tr th {\n",
       "        vertical-align: top;\n",
       "    }\n",
       "\n",
       "    .dataframe thead th {\n",
       "        text-align: right;\n",
       "    }\n",
       "</style>\n",
       "<table border=\"1\" class=\"dataframe\">\n",
       "  <thead>\n",
       "    <tr style=\"text-align: right;\">\n",
       "      <th></th>\n",
       "      <th>descItem</th>\n",
       "      <th>idPedido</th>\n",
       "      <th>Representacao (%)</th>\n",
       "    </tr>\n",
       "  </thead>\n",
       "  <tbody>\n",
       "    <tr>\n",
       "      <th>0</th>\n",
       "      <td>massa final</td>\n",
       "      <td>346</td>\n",
       "      <td>31.0</td>\n",
       "    </tr>\n",
       "    <tr>\n",
       "      <th>1</th>\n",
       "      <td>massa grossa</td>\n",
       "      <td>108</td>\n",
       "      <td>10.0</td>\n",
       "    </tr>\n",
       "    <tr>\n",
       "      <th>2</th>\n",
       "      <td>massa integral</td>\n",
       "      <td>33</td>\n",
       "      <td>3.0</td>\n",
       "    </tr>\n",
       "    <tr>\n",
       "      <th>3</th>\n",
       "      <td>massa tradicional</td>\n",
       "      <td>619</td>\n",
       "      <td>56.0</td>\n",
       "    </tr>\n",
       "  </tbody>\n",
       "</table>\n",
       "</div>"
      ],
      "text/plain": [
       "            descItem  idPedido  Representacao (%)\n",
       "0        massa final       346               31.0\n",
       "1       massa grossa       108               10.0\n",
       "2     massa integral        33                3.0\n",
       "3  massa tradicional       619               56.0"
      ]
     },
     "execution_count": 35,
     "metadata": {},
     "output_type": "execute_result"
    }
   ],
   "source": [
    "df_group['Representacao (%)'] =100*( df_group['idPedido'] / df_group['idPedido'].sum()).round(2)\n",
    "df_group"
   ]
  },
  {
   "cell_type": "code",
   "execution_count": 62,
   "metadata": {},
   "outputs": [
    {
     "data": {
      "text/html": [
       "<div>\n",
       "<style scoped>\n",
       "    .dataframe tbody tr th:only-of-type {\n",
       "        vertical-align: middle;\n",
       "    }\n",
       "\n",
       "    .dataframe tbody tr th {\n",
       "        vertical-align: top;\n",
       "    }\n",
       "\n",
       "    .dataframe thead th {\n",
       "        text-align: right;\n",
       "    }\n",
       "</style>\n",
       "<table border=\"1\" class=\"dataframe\">\n",
       "  <thead>\n",
       "    <tr style=\"text-align: right;\">\n",
       "      <th></th>\n",
       "      <th>descItem</th>\n",
       "      <th>idPedido</th>\n",
       "      <th>vlPreco</th>\n",
       "    </tr>\n",
       "  </thead>\n",
       "  <tbody>\n",
       "    <tr>\n",
       "      <th>0</th>\n",
       "      <td>massa final</td>\n",
       "      <td>346</td>\n",
       "      <td>2422.00</td>\n",
       "    </tr>\n",
       "    <tr>\n",
       "      <th>1</th>\n",
       "      <td>massa grossa</td>\n",
       "      <td>108</td>\n",
       "      <td>1296.00</td>\n",
       "    </tr>\n",
       "    <tr>\n",
       "      <th>2</th>\n",
       "      <td>massa integral</td>\n",
       "      <td>33</td>\n",
       "      <td>453.75</td>\n",
       "    </tr>\n",
       "    <tr>\n",
       "      <th>3</th>\n",
       "      <td>massa tradicional</td>\n",
       "      <td>619</td>\n",
       "      <td>5725.75</td>\n",
       "    </tr>\n",
       "  </tbody>\n",
       "</table>\n",
       "</div>"
      ],
      "text/plain": [
       "            descItem  idPedido  vlPreco\n",
       "0        massa final       346  2422.00\n",
       "1       massa grossa       108  1296.00\n",
       "2     massa integral        33   453.75\n",
       "3  massa tradicional       619  5725.75"
      ]
     },
     "execution_count": 62,
     "metadata": {},
     "output_type": "execute_result"
    }
   ],
   "source": [
    "df_group = (df_massa.groupby(by=['descItem'])\n",
    "                    .agg({'idPedido':['nunique'],\n",
    "                          'vlPreco':['sum']})\n",
    "                    .reset_index())\n",
    "df_group.columns = df_group.columns.get_level_values(0)\n",
    "df_group\n"
   ]
  },
  {
   "cell_type": "code",
   "execution_count": 63,
   "metadata": {},
   "outputs": [
    {
     "data": {
      "text/html": [
       "<div>\n",
       "<style scoped>\n",
       "    .dataframe tbody tr th:only-of-type {\n",
       "        vertical-align: middle;\n",
       "    }\n",
       "\n",
       "    .dataframe tbody tr th {\n",
       "        vertical-align: top;\n",
       "    }\n",
       "\n",
       "    .dataframe thead th {\n",
       "        text-align: right;\n",
       "    }\n",
       "</style>\n",
       "<table border=\"1\" class=\"dataframe\">\n",
       "  <thead>\n",
       "    <tr style=\"text-align: right;\">\n",
       "      <th></th>\n",
       "      <th>descItem</th>\n",
       "      <th>idPedido</th>\n",
       "      <th>vlPreco</th>\n",
       "      <th>Quantidade(%)</th>\n",
       "      <th>Receita(%)</th>\n",
       "    </tr>\n",
       "  </thead>\n",
       "  <tbody>\n",
       "    <tr>\n",
       "      <th>0</th>\n",
       "      <td>massa final</td>\n",
       "      <td>346</td>\n",
       "      <td>2422.00</td>\n",
       "      <td>31.3</td>\n",
       "      <td>24.5</td>\n",
       "    </tr>\n",
       "    <tr>\n",
       "      <th>1</th>\n",
       "      <td>massa grossa</td>\n",
       "      <td>108</td>\n",
       "      <td>1296.00</td>\n",
       "      <td>9.8</td>\n",
       "      <td>13.1</td>\n",
       "    </tr>\n",
       "    <tr>\n",
       "      <th>2</th>\n",
       "      <td>massa integral</td>\n",
       "      <td>33</td>\n",
       "      <td>453.75</td>\n",
       "      <td>3.0</td>\n",
       "      <td>4.6</td>\n",
       "    </tr>\n",
       "    <tr>\n",
       "      <th>3</th>\n",
       "      <td>massa tradicional</td>\n",
       "      <td>619</td>\n",
       "      <td>5725.75</td>\n",
       "      <td>56.0</td>\n",
       "      <td>57.9</td>\n",
       "    </tr>\n",
       "  </tbody>\n",
       "</table>\n",
       "</div>"
      ],
      "text/plain": [
       "            descItem  idPedido  vlPreco  Quantidade(%)  Receita(%)\n",
       "0        massa final       346  2422.00           31.3        24.5\n",
       "1       massa grossa       108  1296.00            9.8        13.1\n",
       "2     massa integral        33   453.75            3.0         4.6\n",
       "3  massa tradicional       619  5725.75           56.0        57.9"
      ]
     },
     "execution_count": 63,
     "metadata": {},
     "output_type": "execute_result"
    }
   ],
   "source": [
    "df_group['Quantidade(%)'] = 100*(df_group['idPedido'] / df_group['idPedido'].sum()).round(3)\n",
    "df_group['Receita(%)'] =100*(df_group['vlPreco'] / df_group['vlPreco'].sum()).round(3)\n",
    "df_group\n"
   ]
  }
 ],
 "metadata": {
  "kernelspec": {
   "display_name": "Python 3",
   "language": "python",
   "name": "python3"
  },
  "language_info": {
   "codemirror_mode": {
    "name": "ipython",
    "version": 3
   },
   "file_extension": ".py",
   "mimetype": "text/x-python",
   "name": "python",
   "nbconvert_exporter": "python",
   "pygments_lexer": "ipython3",
   "version": "3.11.2"
  },
  "orig_nbformat": 4
 },
 "nbformat": 4,
 "nbformat_minor": 2
}
