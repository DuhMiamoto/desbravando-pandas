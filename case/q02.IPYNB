{
 "cells": [
  {
   "cell_type": "markdown",
   "metadata": {},
   "source": [
    "2. Podemos deixar a borda de Catupiry como borda padrão?"
   ]
  },
  {
   "cell_type": "code",
   "execution_count": 2,
   "metadata": {},
   "outputs": [],
   "source": [
    "import pandas as pd"
   ]
  },
  {
   "cell_type": "code",
   "execution_count": 6,
   "metadata": {},
   "outputs": [
    {
     "data": {
      "text/html": [
       "<div>\n",
       "<style scoped>\n",
       "    .dataframe tbody tr th:only-of-type {\n",
       "        vertical-align: middle;\n",
       "    }\n",
       "\n",
       "    .dataframe tbody tr th {\n",
       "        vertical-align: top;\n",
       "    }\n",
       "\n",
       "    .dataframe thead th {\n",
       "        text-align: right;\n",
       "    }\n",
       "</style>\n",
       "<table border=\"1\" class=\"dataframe\">\n",
       "  <thead>\n",
       "    <tr style=\"text-align: right;\">\n",
       "      <th></th>\n",
       "      <th>descItem</th>\n",
       "      <th>idPedido</th>\n",
       "      <th>RepPedidos (%)</th>\n",
       "    </tr>\n",
       "  </thead>\n",
       "  <tbody>\n",
       "    <tr>\n",
       "      <th>0</th>\n",
       "      <td>borda tradicional</td>\n",
       "      <td>438</td>\n",
       "      <td>39.60</td>\n",
       "    </tr>\n",
       "    <tr>\n",
       "      <th>1</th>\n",
       "      <td>cheddar</td>\n",
       "      <td>118</td>\n",
       "      <td>10.67</td>\n",
       "    </tr>\n",
       "    <tr>\n",
       "      <th>2</th>\n",
       "      <td>cream cheese</td>\n",
       "      <td>143</td>\n",
       "      <td>12.93</td>\n",
       "    </tr>\n",
       "    <tr>\n",
       "      <th>3</th>\n",
       "      <td>sabor catupiry</td>\n",
       "      <td>407</td>\n",
       "      <td>36.80</td>\n",
       "    </tr>\n",
       "  </tbody>\n",
       "</table>\n",
       "</div>"
      ],
      "text/plain": [
       "            descItem  idPedido  RepPedidos (%)\n",
       "0  borda tradicional       438           39.60\n",
       "1            cheddar       118           10.67\n",
       "2       cream cheese       143           12.93\n",
       "3     sabor catupiry       407           36.80"
      ]
     },
     "execution_count": 6,
     "metadata": {},
     "output_type": "execute_result"
    }
   ],
   "source": [
    "df_item_pedido = pd.read_csv('../data/item_pedido.csv')\n",
    "\n",
    "filtro_borda = df_item_pedido['descTipoItem'] == 'borda'\n",
    "df_borda = df_item_pedido[filtro_borda]\n",
    "\n",
    "df_group = (df_borda.groupby(by=['descItem'])['idPedido']\n",
    "        .nunique()\n",
    "        .reset_index())\n",
    "\n",
    "df_group['RepPedidos (%)'] = (100*df_group['idPedido'] / df_group['idPedido'].sum()).round(2)\n",
    "df_group"
   ]
  }
 ],
 "metadata": {
  "kernelspec": {
   "display_name": "Python 3",
   "language": "python",
   "name": "python3"
  },
  "language_info": {
   "codemirror_mode": {
    "name": "ipython",
    "version": 3
   },
   "file_extension": ".py",
   "mimetype": "text/x-python",
   "name": "python",
   "nbconvert_exporter": "python",
   "pygments_lexer": "ipython3",
   "version": "3.11.2"
  },
  "orig_nbformat": 4
 },
 "nbformat": 4,
 "nbformat_minor": 2
}
