{
 "cells": [
  {
   "cell_type": "markdown",
   "metadata": {},
   "source": [
    "3. Vários queijos estão estragando pela validade. Quais queijos juntos atendemm 90% dos pedidos?"
   ]
  },
  {
   "cell_type": "code",
   "execution_count": 1,
   "metadata": {},
   "outputs": [],
   "source": [
    "import pandas as pd"
   ]
  },
  {
   "cell_type": "code",
   "execution_count": 6,
   "metadata": {},
   "outputs": [],
   "source": [
    "df_item_pedido = pd.read_csv('../data/item_pedido.csv')\n",
    "\n",
    "filtro_queijo = df_item_pedido['descTipoItem'].isin(['queijo 1', 'queijo 2'])\n",
    "\n",
    "df_queijo = df_item_pedido[filtro_queijo]"
   ]
  },
  {
   "cell_type": "code",
   "execution_count": 9,
   "metadata": {},
   "outputs": [],
   "source": [
    "df_group = (df_queijo.groupby(by='descItem')['idPedido']\n",
    "         .nunique()\n",
    "         .reset_index()\n",
    "         .sort_values('idPedido', ascending=False))\n",
    "\n",
    "df_group['Percentual (%)'] = (100*df_group['idPedido'] / df_group['idPedido'].sum()).round(2)\n"
   ]
  },
  {
   "cell_type": "code",
   "execution_count": 12,
   "metadata": {},
   "outputs": [],
   "source": [
    "df_group['pctAcum'] = df_group['Percentual (%)'].cumsum()"
   ]
  },
  {
   "cell_type": "code",
   "execution_count": 13,
   "metadata": {},
   "outputs": [
    {
     "data": {
      "text/html": [
       "<div>\n",
       "<style scoped>\n",
       "    .dataframe tbody tr th:only-of-type {\n",
       "        vertical-align: middle;\n",
       "    }\n",
       "\n",
       "    .dataframe tbody tr th {\n",
       "        vertical-align: top;\n",
       "    }\n",
       "\n",
       "    .dataframe thead th {\n",
       "        text-align: right;\n",
       "    }\n",
       "</style>\n",
       "<table border=\"1\" class=\"dataframe\">\n",
       "  <thead>\n",
       "    <tr style=\"text-align: right;\">\n",
       "      <th></th>\n",
       "      <th>descItem</th>\n",
       "      <th>idPedido</th>\n",
       "      <th>Percentual (%)</th>\n",
       "      <th>pctAcum</th>\n",
       "    </tr>\n",
       "  </thead>\n",
       "  <tbody>\n",
       "    <tr>\n",
       "      <th>3</th>\n",
       "      <td>mussarela</td>\n",
       "      <td>839</td>\n",
       "      <td>40.55</td>\n",
       "      <td>40.55</td>\n",
       "    </tr>\n",
       "    <tr>\n",
       "      <th>4</th>\n",
       "      <td>parmesão</td>\n",
       "      <td>309</td>\n",
       "      <td>14.93</td>\n",
       "      <td>55.48</td>\n",
       "    </tr>\n",
       "    <tr>\n",
       "      <th>0</th>\n",
       "      <td>catupiry</td>\n",
       "      <td>225</td>\n",
       "      <td>10.87</td>\n",
       "      <td>66.35</td>\n",
       "    </tr>\n",
       "    <tr>\n",
       "      <th>2</th>\n",
       "      <td>gorgonzola</td>\n",
       "      <td>207</td>\n",
       "      <td>10.00</td>\n",
       "      <td>76.35</td>\n",
       "    </tr>\n",
       "    <tr>\n",
       "      <th>5</th>\n",
       "      <td>provolone</td>\n",
       "      <td>177</td>\n",
       "      <td>8.55</td>\n",
       "      <td>84.90</td>\n",
       "    </tr>\n",
       "    <tr>\n",
       "      <th>1</th>\n",
       "      <td>cheddar</td>\n",
       "      <td>127</td>\n",
       "      <td>6.14</td>\n",
       "      <td>91.04</td>\n",
       "    </tr>\n",
       "    <tr>\n",
       "      <th>6</th>\n",
       "      <td>queijo brie</td>\n",
       "      <td>89</td>\n",
       "      <td>4.30</td>\n",
       "      <td>95.34</td>\n",
       "    </tr>\n",
       "    <tr>\n",
       "      <th>7</th>\n",
       "      <td>queijo coalho</td>\n",
       "      <td>60</td>\n",
       "      <td>2.90</td>\n",
       "      <td>98.24</td>\n",
       "    </tr>\n",
       "    <tr>\n",
       "      <th>9</th>\n",
       "      <td>ricota</td>\n",
       "      <td>28</td>\n",
       "      <td>1.35</td>\n",
       "      <td>99.59</td>\n",
       "    </tr>\n",
       "    <tr>\n",
       "      <th>8</th>\n",
       "      <td>queijo feta</td>\n",
       "      <td>8</td>\n",
       "      <td>0.39</td>\n",
       "      <td>99.98</td>\n",
       "    </tr>\n",
       "  </tbody>\n",
       "</table>\n",
       "</div>"
      ],
      "text/plain": [
       "        descItem  idPedido  Percentual (%)  pctAcum\n",
       "3      mussarela       839           40.55    40.55\n",
       "4       parmesão       309           14.93    55.48\n",
       "0       catupiry       225           10.87    66.35\n",
       "2     gorgonzola       207           10.00    76.35\n",
       "5      provolone       177            8.55    84.90\n",
       "1        cheddar       127            6.14    91.04\n",
       "6    queijo brie        89            4.30    95.34\n",
       "7  queijo coalho        60            2.90    98.24\n",
       "9         ricota        28            1.35    99.59\n",
       "8    queijo feta         8            0.39    99.98"
      ]
     },
     "execution_count": 13,
     "metadata": {},
     "output_type": "execute_result"
    }
   ],
   "source": [
    "df_group"
   ]
  },
  {
   "cell_type": "markdown",
   "metadata": {},
   "source": [
    "*Pelo análise temos*\n",
    "- Queijo brie\n",
    "- queijo coalho\n",
    "- ricota\t\n",
    "- queijo feta "
   ]
  }
 ],
 "metadata": {
  "kernelspec": {
   "display_name": "Python 3",
   "language": "python",
   "name": "python3"
  },
  "language_info": {
   "codemirror_mode": {
    "name": "ipython",
    "version": 3
   },
   "file_extension": ".py",
   "mimetype": "text/x-python",
   "name": "python",
   "nbconvert_exporter": "python",
   "pygments_lexer": "ipython3",
   "version": "3.11.2"
  },
  "orig_nbformat": 4
 },
 "nbformat": 4,
 "nbformat_minor": 2
}
