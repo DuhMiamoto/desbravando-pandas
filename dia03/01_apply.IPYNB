{
 "cells": [
  {
   "cell_type": "code",
   "execution_count": 1,
   "metadata": {},
   "outputs": [],
   "source": [
    "import pandas as pd\n",
    "\n",
    "df_produto = pd.read_csv('../data/produto.csv')"
   ]
  },
  {
   "cell_type": "code",
   "execution_count": 2,
   "metadata": {},
   "outputs": [
    {
     "data": {
      "text/plain": [
       "array(['abacate', 'abacaxi', 'abobrinha', 'alcaparra', 'alho',\n",
       "       'alho-poró', 'amêndoas', 'anchova', 'anchova em conserva', 'atum',\n",
       "       'azeite de oliva', 'azeitona', 'bacon', 'berinjela', 'beterraba',\n",
       "       'borda tradicional', 'brócolis', 'calabresa', 'camarão',\n",
       "       'carne moída', 'carne seca', 'castanhas', 'catupiry', 'cebola',\n",
       "       'cebola caramelizada', 'cebolinha', 'cereja', 'cerveja', 'cheddar',\n",
       "       'chá gelado', 'cogumelos', 'cream cheese', 'ervilha', 'espinafre',\n",
       "       'frango', 'gorgonzola', 'grão de bico', 'lentilha', 'limonada',\n",
       "       'linguiça', 'linguiça calabresa defumada', 'massa final',\n",
       "       'massa grossa', 'massa integral', 'massa tradicional', 'mel',\n",
       "       'milho', 'mussarela', 'nozes', 'orégano', 'ovo', 'palmito',\n",
       "       'parmesão', 'pepperoni', 'picles', 'pimenta biquinho',\n",
       "       'pimenta calabresa', 'pimentão', 'pimentão assado', 'presunto',\n",
       "       'provolone', 'pêssego', 'queijo brie', 'queijo cheddar',\n",
       "       'queijo coalho', 'queijo coalho grelhado', 'queijo de cabra',\n",
       "       'queijo feta', 'queijo gouda', 'queijo roquefort', 'refrigerante',\n",
       "       'ricota', 'rúcula', 'sabor catupiry', 'salsinha',\n",
       "       'suco de abacaxi', 'suco de laranja', 'suco de maracujá',\n",
       "       'suco de uva', 'tofu', 'tomate', 'tomate seco', 'uva passa',\n",
       "       'vinho tinto', 'água com gás'], dtype=object)"
      ]
     },
     "execution_count": 2,
     "metadata": {},
     "output_type": "execute_result"
    }
   ],
   "source": [
    "df_produto['descItem'].unique()"
   ]
  },
  {
   "cell_type": "code",
   "execution_count": 3,
   "metadata": {},
   "outputs": [],
   "source": [
    "def is_massa(m): \n",
    "    m = str(m)\n",
    "    return m.lower().startswith('massa')"
   ]
  },
  {
   "cell_type": "code",
   "execution_count": 8,
   "metadata": {},
   "outputs": [],
   "source": [
    "filtro_massa = df_produto['descItem'].apply(is_massa)"
   ]
  },
  {
   "cell_type": "code",
   "execution_count": 9,
   "metadata": {},
   "outputs": [
    {
     "data": {
      "text/html": [
       "<div>\n",
       "<style scoped>\n",
       "    .dataframe tbody tr th:only-of-type {\n",
       "        vertical-align: middle;\n",
       "    }\n",
       "\n",
       "    .dataframe tbody tr th {\n",
       "        vertical-align: top;\n",
       "    }\n",
       "\n",
       "    .dataframe thead th {\n",
       "        text-align: right;\n",
       "    }\n",
       "</style>\n",
       "<table border=\"1\" class=\"dataframe\">\n",
       "  <thead>\n",
       "    <tr style=\"text-align: right;\">\n",
       "      <th></th>\n",
       "      <th>descItem</th>\n",
       "      <th>vlPreco</th>\n",
       "    </tr>\n",
       "  </thead>\n",
       "  <tbody>\n",
       "    <tr>\n",
       "      <th>41</th>\n",
       "      <td>massa final</td>\n",
       "      <td>7.00</td>\n",
       "    </tr>\n",
       "    <tr>\n",
       "      <th>42</th>\n",
       "      <td>massa grossa</td>\n",
       "      <td>12.00</td>\n",
       "    </tr>\n",
       "    <tr>\n",
       "      <th>43</th>\n",
       "      <td>massa integral</td>\n",
       "      <td>13.75</td>\n",
       "    </tr>\n",
       "    <tr>\n",
       "      <th>44</th>\n",
       "      <td>massa tradicional</td>\n",
       "      <td>9.25</td>\n",
       "    </tr>\n",
       "  </tbody>\n",
       "</table>\n",
       "</div>"
      ],
      "text/plain": [
       "             descItem  vlPreco\n",
       "41        massa final     7.00\n",
       "42       massa grossa    12.00\n",
       "43     massa integral    13.75\n",
       "44  massa tradicional     9.25"
      ]
     },
     "execution_count": 9,
     "metadata": {},
     "output_type": "execute_result"
    }
   ],
   "source": [
    "df_produto[filtro_massa]"
   ]
  },
  {
   "cell_type": "code",
   "execution_count": 17,
   "metadata": {},
   "outputs": [],
   "source": [
    "fmassa = df_produto['descItem'].apply(lambda m: m.lower().startswith('massa'))"
   ]
  },
  {
   "cell_type": "code",
   "execution_count": 18,
   "metadata": {},
   "outputs": [
    {
     "data": {
      "text/html": [
       "<div>\n",
       "<style scoped>\n",
       "    .dataframe tbody tr th:only-of-type {\n",
       "        vertical-align: middle;\n",
       "    }\n",
       "\n",
       "    .dataframe tbody tr th {\n",
       "        vertical-align: top;\n",
       "    }\n",
       "\n",
       "    .dataframe thead th {\n",
       "        text-align: right;\n",
       "    }\n",
       "</style>\n",
       "<table border=\"1\" class=\"dataframe\">\n",
       "  <thead>\n",
       "    <tr style=\"text-align: right;\">\n",
       "      <th></th>\n",
       "      <th>descItem</th>\n",
       "      <th>vlPreco</th>\n",
       "    </tr>\n",
       "  </thead>\n",
       "  <tbody>\n",
       "    <tr>\n",
       "      <th>41</th>\n",
       "      <td>massa final</td>\n",
       "      <td>7.00</td>\n",
       "    </tr>\n",
       "    <tr>\n",
       "      <th>42</th>\n",
       "      <td>massa grossa</td>\n",
       "      <td>12.00</td>\n",
       "    </tr>\n",
       "    <tr>\n",
       "      <th>43</th>\n",
       "      <td>massa integral</td>\n",
       "      <td>13.75</td>\n",
       "    </tr>\n",
       "    <tr>\n",
       "      <th>44</th>\n",
       "      <td>massa tradicional</td>\n",
       "      <td>9.25</td>\n",
       "    </tr>\n",
       "  </tbody>\n",
       "</table>\n",
       "</div>"
      ],
      "text/plain": [
       "             descItem  vlPreco\n",
       "41        massa final     7.00\n",
       "42       massa grossa    12.00\n",
       "43     massa integral    13.75\n",
       "44  massa tradicional     9.25"
      ]
     },
     "execution_count": 18,
     "metadata": {},
     "output_type": "execute_result"
    }
   ],
   "source": [
    "df_produto[filtro_massa]"
   ]
  },
  {
   "cell_type": "code",
   "execution_count": null,
   "metadata": {},
   "outputs": [],
   "source": [
    "df_produto['descItem'].str.lower().str.startswith('massa')"
   ]
  },
  {
   "cell_type": "code",
   "execution_count": null,
   "metadata": {},
   "outputs": [],
   "source": []
  }
 ],
 "metadata": {
  "kernelspec": {
   "display_name": "Python 3",
   "language": "python",
   "name": "python3"
  },
  "language_info": {
   "codemirror_mode": {
    "name": "ipython",
    "version": 3
   },
   "file_extension": ".py",
   "mimetype": "text/x-python",
   "name": "python",
   "nbconvert_exporter": "python",
   "pygments_lexer": "ipython3",
   "version": "3.11.2"
  },
  "orig_nbformat": 4
 },
 "nbformat": 4,
 "nbformat_minor": 2
}
